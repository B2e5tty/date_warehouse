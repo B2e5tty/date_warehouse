{
 "cells": [
  {
   "cell_type": "markdown",
   "metadata": {},
   "source": [
    "## Task 1\n",
    "- Telegram Scraping\n",
    "- Image and Scraping\n",
    "\n",
    "\n",
    "## Task 2\n",
    "- Data Cleaning\n",
    "- Storing Cleaned Data\n",
    "- DBT "
   ]
  },
  {
   "cell_type": "code",
   "execution_count": 13,
   "metadata": {},
   "outputs": [],
   "source": [
    "import pandas as pd \n",
    "import numpy as np \n",
    "import matplotlib.pyplot as plt \n",
    "import seaborn as sns\n",
    "import importlib\n",
    "import asyncio\n",
    "\n",
    "\n",
    "import os\n",
    "import sys\n",
    "sys.path.append(os.path.abspath(os.path.join('..','src')))\n",
    "\n",
    "\n",
    "import scrapping as sp\n",
    "importlib.reload(sp)\n",
    "\n",
    "import data_cleaning as dc\n",
    "importlib.reload(dc)\n",
    "\n",
    "import warnings\n",
    "warnings.filterwarnings('ignore')"
   ]
  },
  {
   "cell_type": "markdown",
   "metadata": {},
   "source": [
    "## Task 1"
   ]
  },
  {
   "cell_type": "code",
   "execution_count": 14,
   "metadata": {},
   "outputs": [],
   "source": [
    "# collect the data from telegram channel\n",
    "# await sp.main()"
   ]
  },
  {
   "cell_type": "markdown",
   "metadata": {},
   "source": [
    "## Task 2"
   ]
  },
  {
   "cell_type": "markdown",
   "metadata": {},
   "source": [
    "> Data Cleaning"
   ]
  },
  {
   "cell_type": "code",
   "execution_count": 15,
   "metadata": {},
   "outputs": [
    {
     "name": "stdout",
     "output_type": "stream",
     "text": [
      "<class 'pandas.core.frame.DataFrame'>\n",
      "RangeIndex: 50 entries, 0 to 49\n",
      "Data columns (total 6 columns):\n",
      " #   Column            Non-Null Count  Dtype \n",
      "---  ------            --------------  ----- \n",
      " 0   Channel Title     50 non-null     object\n",
      " 1   Channel Username  50 non-null     object\n",
      " 2   ID                50 non-null     int64 \n",
      " 3   Message           44 non-null     object\n",
      " 4   Date              50 non-null     object\n",
      " 5   Media Path        45 non-null     object\n",
      "dtypes: int64(1), object(5)\n",
      "memory usage: 2.5+ KB\n"
     ]
    },
    {
     "data": {
      "text/plain": [
       "pandas.core.frame.DataFrame"
      ]
     },
     "execution_count": 15,
     "metadata": {},
     "output_type": "execute_result"
    }
   ],
   "source": [
    "# merge the two files\n",
    "df = pd.read_csv('CheMed123_data.csv')\n",
    "df2 = pd.read_csv('EAHCI_data.csv')\n",
    "\n",
    "main_df = pd.concat([df, df2], ignore_index=True)\n",
    "main_df.info()\n",
    "type(main_df)\n"
   ]
  },
  {
   "cell_type": "code",
   "execution_count": 16,
   "metadata": {},
   "outputs": [
    {
     "name": "stdout",
     "output_type": "stream",
     "text": [
      "<class 'pandas.core.frame.DataFrame'>\n",
      "RangeIndex: 50 entries, 0 to 49\n",
      "Data columns (total 6 columns):\n",
      " #   Column            Non-Null Count  Dtype \n",
      "---  ------            --------------  ----- \n",
      " 0   Channel Title     50 non-null     object\n",
      " 1   Channel Username  50 non-null     object\n",
      " 2   ID                50 non-null     int64 \n",
      " 3   Message           44 non-null     object\n",
      " 4   Date              50 non-null     object\n",
      " 5   Media Path        45 non-null     object\n",
      "dtypes: int64(1), object(5)\n",
      "memory usage: 2.5+ KB\n",
      "\n",
      "\n",
      "Unique channel titles in the dataframe: ['CheMed'\n",
      " 'ETHIO-AMERICAN MEDICAL TRAININGS( CPD ) & HEALTH CONSULTANCY CENTER']\n",
      "Unique channel username in the dataframe: ['CheMed123' 'EAHCI']\n",
      "\n",
      "\n",
      "Does ID contain duplicated values: False\n"
     ]
    }
   ],
   "source": [
    "# initialzie the data cleaning class\n",
    "data = dc.Exploratory(main_df)\n",
    "\n",
    "# overview on the data frame\n",
    "data.over_view()"
   ]
  },
  {
   "cell_type": "markdown",
   "metadata": {},
   "source": [
    "> Message column shouldn't be null, thus these NaN should be removed."
   ]
  },
  {
   "cell_type": "code",
   "execution_count": 17,
   "metadata": {},
   "outputs": [
    {
     "name": "stdout",
     "output_type": "stream",
     "text": [
      "<class 'pandas.core.frame.DataFrame'>\n",
      "Index: 44 entries, 0 to 49\n",
      "Data columns (total 6 columns):\n",
      " #   Column            Non-Null Count  Dtype              \n",
      "---  ------            --------------  -----              \n",
      " 0   Channel Title     44 non-null     object             \n",
      " 1   Channel Username  44 non-null     object             \n",
      " 2   ID                44 non-null     int64              \n",
      " 3   Message           44 non-null     object             \n",
      " 4   Date              44 non-null     datetime64[ns, UTC]\n",
      " 5   Media Path        44 non-null     object             \n",
      "dtypes: datetime64[ns, UTC](1), int64(1), object(4)\n",
      "memory usage: 2.4+ KB\n"
     ]
    }
   ],
   "source": [
    "# replace null value and remove null values\n",
    "data.data_cleaning()\n",
    "\n",
    "# check \n",
    "df = data.get_dataframe()\n",
    "df.info()"
   ]
  },
  {
   "cell_type": "markdown",
   "metadata": {},
   "source": [
    "> Storing Cleaned Data"
   ]
  },
  {
   "cell_type": "code",
   "execution_count": 18,
   "metadata": {},
   "outputs": [],
   "source": [
    "# export the dataframe to a postgres database\n",
    "data.export_sql()"
   ]
  },
  {
   "cell_type": "code",
   "execution_count": 19,
   "metadata": {},
   "outputs": [],
   "source": [
    "data.close_log()"
   ]
  }
 ],
 "metadata": {
  "kernelspec": {
   "display_name": "myenv",
   "language": "python",
   "name": "python3"
  },
  "language_info": {
   "codemirror_mode": {
    "name": "ipython",
    "version": 3
   },
   "file_extension": ".py",
   "mimetype": "text/x-python",
   "name": "python",
   "nbconvert_exporter": "python",
   "pygments_lexer": "ipython3",
   "version": "3.12.0"
  }
 },
 "nbformat": 4,
 "nbformat_minor": 2
}
